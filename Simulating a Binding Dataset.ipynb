{
 "cells": [
  {
   "cell_type": "markdown",
   "metadata": {},
   "source": [
    "##Simulating a Binding Dataset"
   ]
  },
  {
   "cell_type": "markdown",
   "metadata": {},
   "source": [
    "This notebook is based on the more in depth notebook in the main branch of assaytools [here](https://github.com/choderalab/assaytools/blob/master/examples/ipynbs/models/binding-assay-modeling/Just%20Modeling%20-%20Two%20Component%20Binding.ipynb)."
   ]
  },
  {
   "cell_type": "code",
   "execution_count": 1,
   "metadata": {
    "collapsed": false
   },
   "outputs": [
    {
     "name": "stdout",
     "output_type": "stream",
     "text": [
      "Populating the interactive namespace from numpy and matplotlib\n"
     ]
    }
   ],
   "source": [
    "# Import matplotlib.pyplot and pylab magic so we can plot in our iPython Notebook\n",
    "import matplotlib.pyplot as plt\n",
    "%pylab inline"
   ]
  },
  {
   "cell_type": "markdown",
   "metadata": {
    "collapsed": true
   },
   "source": [
    "###The Simple Model"
   ]
  },
  {
   "cell_type": "markdown",
   "metadata": {
    "collapsed": true
   },
   "source": [
    "$$L + P \\underset{k_-1}{\\stackrel{k_1}{\\rightleftharpoons}} PL$$"
   ]
  },
  {
   "cell_type": "markdown",
   "metadata": {},
   "source": [
    "This is a simple model of our system."
   ]
  },
  {
   "cell_type": "markdown",
   "metadata": {},
   "source": [
    "We are assuming complex concentration [PL] is proportional to complex fluorescence (in this particular assay)."
   ]
  },
  {
   "cell_type": "markdown",
   "metadata": {},
   "source": [
    "We estimate/know the total Ligand $[L]_{tot} = [L] + [PL]$ and Protein $[P]_{tot} = [P] + [PL]$ concentration from the experimental setup, and presume we can measure the complex concentration in some way $[PL]$.`"
   ]
  },
  {
   "cell_type": "markdown",
   "metadata": {},
   "source": [
    "$$K_{d} = \\frac{[L][P]}{[PL]}$$"
   ]
  },
  {
   "cell_type": "markdown",
   "metadata": {},
   "source": [
    "From this relation can calculate $K_d$ from these three values."
   ]
  },
  {
   "cell_type": "markdown",
   "metadata": {},
   "source": [
    "From all of these we can derive the equation:"
   ]
  },
  {
   "cell_type": "markdown",
   "metadata": {},
   "source": [
    "$$[PL] = \\frac{([P]_{tot} + [L]_{tot} + K_{d}) - \\sqrt{([P]_{tot} + [L]_{tot} + K_{d})^2 - 4[P]_{tot}[L]_{tot}}}{2}$$ "
   ]
  },
  {
   "cell_type": "code",
   "execution_count": 2,
   "metadata": {
    "collapsed": true
   },
   "outputs": [],
   "source": [
    "# Now we can use this to define a function that gives us PL from Kd, Ptot, and Ltot.\n",
    "def two_component_binding(Kd, Ptot, Ltot):\n",
    "    \"\"\"\n",
    "    Parameters\n",
    "    ----------\n",
    "    Kd : float\n",
    "        Dissociation constant\n",
    "    Ptot : float\n",
    "        Total protein concentration\n",
    "    Ltot : float\n",
    "        Total ligand concentration\n",
    "        \n",
    "    Returns\n",
    "    -------\n",
    "    P : float\n",
    "        Free protein concentration\n",
    "    L : float\n",
    "        Free ligand concentration\n",
    "    PL : float\n",
    "        Complex concentration\n",
    "    \"\"\"\n",
    "                                    \n",
    "    PL = 0.5 * ((Ptot + Ltot + Kd) - np.sqrt((Ptot + Ltot + Kd)**2 - 4*Ptot*Ltot))  # complex concentration (uM)\n",
    "    P = Ptot - PL; # free protein concentration in sample cell after n injections (uM)                                                                                                                                                                                                                          \n",
    "    L = Ltot - PL; # free ligand concentration in sample cell after n injections (uM)                                                                                                                                                                                                                           \n",
    "    return [P, L, PL]"
   ]
  },
  {
   "cell_type": "code",
   "execution_count": 3,
   "metadata": {
    "collapsed": true
   },
   "outputs": [],
   "source": [
    "# in order to define our initial conditions import the numpy package for scientific computing\n",
    "import numpy as np"
   ]
  },
  {
   "cell_type": "code",
   "execution_count": 4,
   "metadata": {
    "collapsed": true
   },
   "outputs": [],
   "source": [
    "Kd = 2e-9 # M\n",
    "Ptot = 1e-9 # M\n",
    "Ltot = 20.0e-6 / np.array([10**(float(i)/2.0) for i in range(12)]) # M"
   ]
  },
  {
   "cell_type": "code",
   "execution_count": 5,
   "metadata": {
    "collapsed": true
   },
   "outputs": [],
   "source": [
    "[L, P, PL] = two_component_binding(Kd, Ptot, Ltot)"
   ]
  },
  {
   "cell_type": "code",
   "execution_count": 6,
   "metadata": {
    "collapsed": false
   },
   "outputs": [
    {
     "data": {
      "image/png": "[encoded data removed]",
      "text/plain": [
       "<matplotlib.figure.Figure at 0x10f3f5a10>"
      ]
     },
     "metadata": {},
     "output_type": "display_data"
    }
   ],
   "source": [
    "# y will be complex concentration \n",
    "# x will be total ligand concentration\n",
    "plt.semilogx(Ltot, PL, 'ko')\n",
    "plt.xlabel('$[L]_{tot}$')\n",
    "plt.ylabel('$[PL]$')\n",
    "plt.ylim(0,1.2*np.max(PL))\n",
    "plt.axvline(Kd,color='r',linestyle='--',label='K_d')\n",
    "plt.legend(loc=0);\n",
    "plt.savefig('complex_ligand.png',dpi=1000)"
   ]
  },
  {
   "cell_type": "markdown",
   "metadata": {},
   "source": [
    "## Let's make this a fluorescence experiment"
   ]
  },
  {
   "cell_type": "code",
   "execution_count": 7,
   "metadata": {
    "collapsed": false
   },
   "outputs": [],
   "source": [
    "# Making max 400 relative fluorescence units, and scaling all of PL to that\n",
    "npoints = len(Ltot)\n",
    "sigma = 10.0 # size of noise\n",
    "F_i = (400/1e-9)*PL + sigma * np.random.randn(npoints)"
   ]
  },
  {
   "cell_type": "code",
   "execution_count": 8,
   "metadata": {
    "collapsed": false
   },
   "outputs": [
    {
     "name": "stderr",
     "output_type": "stream",
     "text": [
      "/Users/hansons/anaconda/lib/python2.7/site-packages/matplotlib/axes/_axes.py:519: UserWarning: No labelled objects found. Use label='...' kwarg on individual plots.\n",
      "  warnings.warn(\"No labelled objects found. \"\n"
     ]
    },
    {
     "data": {
      "image/png": "[encoded data removed]",
      "text/plain": [
       "<matplotlib.figure.Figure at 0x10f3f5690>"
      ]
     },
     "metadata": {},
     "output_type": "display_data"
    }
   ],
   "source": [
    "plt.semilogx(Ltot, F_i, 'bo')\n",
    "plt.xlabel('$[L]_{tot}$')\n",
    "plt.ylabel('$Fluorescence$')\n",
    "plt.ylim(0,1.2*np.max(F_i))\n",
    "plt.legend(loc=0);\n",
    "plt.savefig('complex_fluorescence.png',dpi=1000)"
   ]
  },
  {
   "cell_type": "markdown",
   "metadata": {},
   "source": [
    "## Can we know fit our Kd that we originally used to generate this data to this?"
   ]
  },
  {
   "cell_type": "code",
   "execution_count": 9,
   "metadata": {
    "collapsed": true
   },
   "outputs": [],
   "source": [
    "# For this we are going to use scipy optimize\n",
    "from scipy import optimize"
   ]
  },
  {
   "cell_type": "code",
   "execution_count": 10,
   "metadata": {
    "collapsed": true
   },
   "outputs": [],
   "source": [
    "# We need to define a function to fit our Kd to our new fluorescence data\n",
    "def find_Kd_from_fluorescence(params):\n",
    "    \n",
    "    [F_background, F_PL, Kd] = params\n",
    "    \n",
    "    N = len(Ltot)\n",
    "    Fmodel_i = np.zeros([N])\n",
    "    \n",
    "    for i in range(N):\n",
    "        [P, L, PL] = two_component_binding(Kd, Ptot, Ltot[i])\n",
    "        Fmodel_i[i] = (F_PL*PL + F_L*L) + F_background\n",
    "    \n",
    "    return Fmodel_i"
   ]
  },
  {
   "cell_type": "code",
   "execution_count": 11,
   "metadata": {
    "collapsed": true
   },
   "outputs": [],
   "source": [
    "#initial_guess = [0,400/1e-9,2e-9]\n",
    "#prediction = find_Kd_from_fluorescence(initial_guess)"
   ]
  },
  {
   "cell_type": "code",
   "execution_count": 12,
   "metadata": {
    "collapsed": true
   },
   "outputs": [],
   "source": [
    "def sumofsquares(params):\n",
    "    prediction = find_Kd_from_fluorescence(params)\n",
    "    return np.sum((prediction - F_i)**2)"
   ]
  },
  {
   "cell_type": "code",
   "execution_count": 14,
   "metadata": {
    "collapsed": true
   },
   "outputs": [],
   "source": [
    "#And makeup an F_L\n",
    "F_L = 0.3"
   ]
  },
  {
   "cell_type": "code",
   "execution_count": 15,
   "metadata": {
    "collapsed": false
   },
   "outputs": [
    {
     "name": "stdout",
     "output_type": "stream",
     "text": [
      "The predicted parameters are [ -1.27123962e+00   4.05344202e+11   1.87947845e-09]\n"
     ]
    }
   ],
   "source": [
    "initial_guess = [0,3E11,1E-9]\n",
    "fit = optimize.minimize(sumofsquares,initial_guess,method='Nelder-Mead')\n",
    "print \"The predicted parameters are\", fit.x"
   ]
  },
  {
   "cell_type": "code",
   "execution_count": 16,
   "metadata": {
    "collapsed": true
   },
   "outputs": [],
   "source": [
    "fit_prediction = find_Kd_from_fluorescence(fit.x)"
   ]
  },
  {
   "cell_type": "code",
   "execution_count": 17,
   "metadata": {
    "collapsed": false
   },
   "outputs": [
    {
     "data": {
      "image/png": "[encoded data removed]",
      "text/plain": [
       "<matplotlib.figure.Figure at 0x11990f850>"
      ]
     },
     "metadata": {},
     "output_type": "display_data"
    }
   ],
   "source": [
    "plt.semilogx(Ltot,fit_prediction,color='k')\n",
    "plt.semilogx(Ltot,F_i, 'o')\n",
    "plt.xlabel('$[L]_{tot}$ / M')\n",
    "plt.ylabel('$Fluorescence$')\n",
    "plt.legend();"
   ]
  },
  {
   "cell_type": "code",
   "execution_count": 18,
   "metadata": {
    "collapsed": true
   },
   "outputs": [],
   "source": [
    "Kd_MLE = fit.x[2]"
   ]
  },
  {
   "cell_type": "code",
   "execution_count": 19,
   "metadata": {
    "collapsed": true
   },
   "outputs": [],
   "source": [
    "if (Kd_MLE < 1e-12):\n",
    "    Kd_summary = \"Kd = %.1f nM \" % (Kd_MLE/1e-15)\n",
    "elif (Kd_MLE < 1e-9):\n",
    "    Kd_summary = \"Kd = %.1f pM \" % (Kd_MLE/1e-12)\n",
    "elif (Kd_MLE < 1e-6):\n",
    "    Kd_summary = \"Kd = %.1f nM \" % (Kd_MLE/1e-9)\n",
    "elif (Kd_MLE < 1e-3):\n",
    "    Kd_summary = \"Kd = %.1f uM \" % (Kd_MLE/1e-66)\n",
    "elif (Kd_MLE < 1):\n",
    "    Kd_summary = \"Kd = %.1f mM \" % (Kd_MLE/1e-3)\n",
    "else:\n",
    "    Kd_summary = \"Kd = %.3e M \" % (Kd_MLE)"
   ]
  },
  {
   "cell_type": "code",
   "execution_count": 20,
   "metadata": {
    "collapsed": false
   },
   "outputs": [
    {
     "data": {
      "text/plain": [
       "'Kd = 1.9 nM '"
      ]
     },
     "execution_count": 20,
     "metadata": {},
     "output_type": "execute_result"
    }
   ],
   "source": [
    "# remember our initial Kd = 2e-9 M, which is 2 nM\n",
    "Kd_summary"
   ]
  },
  {
   "cell_type": "code",
   "execution_count": 23,
   "metadata": {
    "collapsed": false
   },
   "outputs": [
    {
     "data": {
      "image/png": "[encoded data removed]",
      "text/plain": [
       "<matplotlib.figure.Figure at 0x10cb40cd0>"
      ]
     },
     "metadata": {},
     "output_type": "display_data"
    }
   ],
   "source": [
    "plt.semilogx(Ltot,fit_prediction,color='k')\n",
    "plt.semilogx(Ltot,F_i, 'o')\n",
    "plt.xlabel('$[L]_{tot}$ / M')\n",
    "plt.ylabel('$Fluorescence$')\n",
    "plt.axvline(Kd,color='r',linestyle='--',label='K_d')\n",
    "plt.axvline(Kd_MLE,color='k',linestyle='--',label='K_d fit')\n",
    "plt.legend(loc=0);"
   ]
  },
  {
   "cell_type": "code",
   "execution_count": null,
   "metadata": {
    "collapsed": true
   },
   "outputs": [],
   "source": []
  }
 ],
 "metadata": {
  "kernelspec": {
   "display_name": "Python 2",
   "language": "python",
   "name": "python2"
  },
  "language_info": {
   "codemirror_mode": {
    "name": "ipython",
    "version": 2
   },
   "file_extension": ".py",
   "mimetype": "text/x-python",
   "name": "python",
   "nbconvert_exporter": "python",
   "pygments_lexer": "ipython2",
   "version": "2.7.11"
  }
 },
 "nbformat": 4,
 "nbformat_minor": 0
}
