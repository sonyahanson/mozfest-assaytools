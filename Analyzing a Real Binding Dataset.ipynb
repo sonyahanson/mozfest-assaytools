{
 "cells": [
  {
   "cell_type": "markdown",
   "metadata": {},
   "source": [
    "##Analyzing a Real Binding Dataset"
   ]
  },
  {
   "cell_type": "markdown",
   "metadata": {},
   "source": [
    "Here we use the same methods described in the previous notebook 'Simulating a Binding Dataset' to analyze a real binding dataset."
   ]
  },
  {
   "cell_type": "markdown",
   "metadata": {},
   "source": [
    "This notebook is based on the more in depth notebook in the main branch of assaytools [here](https://github.com/choderalab/assaytools/blob/master/examples/ipynbs/data-analysis/binding-assay/Src-gefitinib%20fluorescence%20simple.ipynb)."
   ]
  },
  {
   "cell_type": "code",
   "execution_count": 2,
   "metadata": {
    "collapsed": false
   },
   "outputs": [
    {
     "name": "stdout",
     "output_type": "stream",
     "text": [
      "Couldn't import dot_parser, loading of dot files will not be possible.\n",
      "Populating the interactive namespace from numpy and matplotlib\n"
     ]
    },
    {
     "name": "stderr",
     "output_type": "stream",
     "text": [
      "/Users/hansons/anaconda/lib/python2.7/site-packages/matplotlib/__init__.py:872: UserWarning: axes.color_cycle is deprecated and replaced with axes.prop_cycle; please use the latter.\n",
      "  warnings.warn(self.msg_depr % (key, alt_key))\n"
     ]
    }
   ],
   "source": [
    "import numpy as np\n",
    "import matplotlib.pyplot as plt\n",
    "\n",
    "from assaytools import platereader\n",
    "import string\n",
    "\n",
    "from scipy import optimize\n",
    "import seaborn as sns\n",
    "\n",
    "%pylab inline"
   ]
  },
  {
   "cell_type": "code",
   "execution_count": 3,
   "metadata": {
    "collapsed": true
   },
   "outputs": [],
   "source": [
    "Pstated = 0.5e-6 * np.ones([24],np.float64) # protein concentration, M\n",
    "Lstated = np.array([20.0e-6,14.0e-6,9.82e-6,6.88e-6,4.82e-6,3.38e-6,2.37e-6,1.66e-6,1.16e-6,0.815e-6,0.571e-6,0.4e-6,0.28e-6,0.196e-6,0.138e-6,0.0964e-6,0.0676e-6,0.0474e-6,0.0320e-6,0.0240e-6,0.0160e-6,0.0120e-6,0.008e-6,0.00001e-6], np.float64) # ligand concentration, M"
   ]
  },
  {
   "cell_type": "code",
   "execution_count": 6,
   "metadata": {
    "collapsed": false
   },
   "outputs": [
    {
     "name": "stdout",
     "output_type": "stream",
     "text": [
      "Analyzing a Real Binding Dataset.ipynb  complex_Fluorescence.png\r\n",
      "README.md                               complex_ligand.png\r\n",
      "Simulating a Binding Dataset.ipynb      \u001b[35mp38_8lig1_20160426_120449.xml\u001b[m\u001b[m*\r\n"
     ]
    }
   ],
   "source": [
    "ls"
   ]
  },
  {
   "cell_type": "code",
   "execution_count": 11,
   "metadata": {
    "collapsed": true
   },
   "outputs": [],
   "source": [
    "#Importing our data file.\n",
    "#singlet_file = 'p38_8lig1_20160426_120449.xml'\n",
    "singlet_file = 'p38_singlet1_20160420_153238.xml'"
   ]
  },
  {
   "cell_type": "code",
   "execution_count": 12,
   "metadata": {
    "collapsed": false
   },
   "outputs": [],
   "source": [
    "#Parsing our data file so it's in a format we can analyze it.\n",
    "data = platereader.read_icontrol_xml(singlet_file)\n",
    "#I want the Bosutinib-p38 data from rows I (protein) and J (buffer).\n",
    "data_protein = platereader.select_data(data, '280_480_TOP_120', 'I')\n",
    "data_buffer = platereader.select_data(data, '280_480_TOP_120', 'J')"
   ]
  },
  {
   "cell_type": "code",
   "execution_count": 13,
   "metadata": {
    "collapsed": false
   },
   "outputs": [
    {
     "data": {
      "text/plain": [
       "{'I1': '16546',\n",
       " 'I10': '8280',\n",
       " 'I11': '7005',\n",
       " 'I12': '5827',\n",
       " 'I13': '4967',\n",
       " 'I14': '4378',\n",
       " 'I15': '3859',\n",
       " 'I16': '3513',\n",
       " 'I17': '3176',\n",
       " 'I18': '3001',\n",
       " 'I19': '2855',\n",
       " 'I2': '16009',\n",
       " 'I20': '2736',\n",
       " 'I21': '2647',\n",
       " 'I22': '2552',\n",
       " 'I23': '2515',\n",
       " 'I24': '2487',\n",
       " 'I3': '15707',\n",
       " 'I4': '14688',\n",
       " 'I5': '14146',\n",
       " 'I6': '12881',\n",
       " 'I7': '12583',\n",
       " 'I8': '11251',\n",
       " 'I9': '10015'}"
      ]
     },
     "execution_count": 13,
     "metadata": {},
     "output_type": "execute_result"
    }
   ],
   "source": [
    "data_protein"
   ]
  },
  {
   "cell_type": "code",
   "execution_count": 14,
   "metadata": {
    "collapsed": true
   },
   "outputs": [],
   "source": [
    "#Sadly we also need to reorder our data and put it into an array to make the analysis easier\n",
    "\n",
    "well = dict()\n",
    "for j in string.ascii_uppercase:\n",
    "    for i in range(1,25):\n",
    "        well['%s' %j + '%s' %i] = i\n",
    "\n",
    "def reorder2list(data,well):\n",
    "    \n",
    "    sorted_keys = sorted(well.keys(), key=lambda k:well[k])\n",
    "    \n",
    "    reorder_data = []\n",
    "    \n",
    "    for key in sorted_keys:\n",
    "        try:\n",
    "            reorder_data.append(data[key])\n",
    "        except:\n",
    "            pass\n",
    "\n",
    "    reorder_data = [r.replace('OVER','70000') for r in reorder_data]\n",
    "        \n",
    "    reorder_data = np.asarray(reorder_data,np.float64)\n",
    "    \n",
    "    return reorder_data\n",
    "\n",
    "reorder_protein = reorder2list(data_protein,well)\n",
    "reorder_buffer = reorder2list(data_buffer,well)"
   ]
  },
  {
   "cell_type": "code",
   "execution_count": 15,
   "metadata": {
    "collapsed": false
   },
   "outputs": [
    {
     "data": {
      "text/plain": [
       "array([ 16546.,  16009.,  15707.,  14688.,  14146.,  12881.,  12583.,\n",
       "        11251.,  10015.,   8280.,   7005.,   5827.,   4967.,   4378.,\n",
       "         3859.,   3513.,   3176.,   3001.,   2855.,   2736.,   2647.,\n",
       "         2552.,   2515.,   2487.])"
      ]
     },
     "execution_count": 15,
     "metadata": {},
     "output_type": "execute_result"
    }
   ],
   "source": [
    "reorder_protein"
   ]
  },
  {
   "cell_type": "code",
   "execution_count": 16,
   "metadata": {
    "collapsed": false
   },
   "outputs": [
    {
     "data": {
      "image/png": "[encoded data removed]",
      "text/plain": [
       "<matplotlib.figure.Figure at 0x11e2d9d50>"
      ]
     },
     "metadata": {},
     "output_type": "display_data"
    }
   ],
   "source": [
    "plt.semilogx(Lstated,reorder_protein, 'ro', label='PL')\n",
    "plt.semilogx(Lstated,reorder_buffer, 'ko', label='L')\n",
    "plt.xlabel('$[L]_{tot}$ / M')\n",
    "plt.ylabel('fluorescence')\n",
    "plt.xlim(5e-9,1.3e-4)\n",
    "plt.legend(loc=2);"
   ]
  },
  {
   "cell_type": "markdown",
   "metadata": {
    "collapsed": true
   },
   "source": [
    "# Analyze with MLE"
   ]
  },
  {
   "cell_type": "code",
   "execution_count": 17,
   "metadata": {
    "collapsed": true
   },
   "outputs": [],
   "source": [
    "def two_component_binding(Kd, Ptot, Ltot):\n",
    "    \"\"\"\n",
    "    Parameters\n",
    "    ----------\n",
    "    Kd : float\n",
    "        Dissociation constant\n",
    "    Ptot : float\n",
    "        Total protein concentration\n",
    "    Ltot : float\n",
    "        Total ligand concentration\n",
    "        \n",
    "    Returns\n",
    "    -------\n",
    "    P : float\n",
    "        Free protein concentration\n",
    "    L : float\n",
    "        Free ligand concentration\n",
    "    PL : float\n",
    "        Complex concentration\n",
    "    \"\"\"\n",
    "                                    \n",
    "    PL = 0.5 * ((Ptot + Ltot + Kd) - np.sqrt((Ptot + Ltot + Kd)**2 - 4*Ptot*Ltot))  # complex concentration (uM)\n",
    "    P = Ptot - PL; # free protein concentration in sample cell after n injections (uM)                                                                                                                                                                                                                          \n",
    "    L = Ltot - PL; # free ligand concentration in sample cell after n injections (uM)                                                                                                                                                                                                                           \n",
    "    return [P, L, PL]"
   ]
  },
  {
   "cell_type": "code",
   "execution_count": 18,
   "metadata": {
    "collapsed": true
   },
   "outputs": [],
   "source": [
    "def find_Kd_from_fluorescence(params):\n",
    "    \n",
    "    [F_background, F_PL, Kd] = params\n",
    "    \n",
    "    N = len(Lstated)\n",
    "    Fmodel_i = np.zeros([N])\n",
    "    \n",
    "    for i in range(N):\n",
    "        [P, L, PL] = two_component_binding(Kd, Pstated[0], Lstated[i])\n",
    "        Fmodel_i[i] = (F_PL*PL + F_L*L) + F_background\n",
    "    \n",
    "    return Fmodel_i"
   ]
  },
  {
   "cell_type": "code",
   "execution_count": 19,
   "metadata": {
    "collapsed": true
   },
   "outputs": [],
   "source": [
    "# for this to work we need to provide some initial values\n",
    "# some of these we already have\n",
    "#F_L = reorder_buffer\n",
    "#F_PL = reorder_protein\n",
    "\n",
    "#And makeup an F_L\n",
    "F_L = 0.3\n",
    "\n",
    "# initial guess for [F_background, F_PL, Kd]\n",
    "initial_guess = [0,400/1e-9,2e-9]"
   ]
  },
  {
   "cell_type": "code",
   "execution_count": 20,
   "metadata": {
    "collapsed": true
   },
   "outputs": [],
   "source": [
    "def sumofsquares(params):\n",
    "    prediction = find_Kd_from_fluorescence(params)\n",
    "    return np.sum((prediction - reorder_protein)**2)"
   ]
  },
  {
   "cell_type": "code",
   "execution_count": 21,
   "metadata": {
    "collapsed": false
   },
   "outputs": [
    {
     "name": "stdout",
     "output_type": "stream",
     "text": [
      "The predicted parameters [F_background, F_PL, Kd] are  [  2.49844795e+03   2.86577268e+10   8.76906192e-07]\n"
     ]
    }
   ],
   "source": [
    "initial_guess = [0,3e11,1e-9]\n",
    "fit = optimize.minimize(sumofsquares,initial_guess,method='Nelder-Mead')\n",
    "print \"The predicted parameters [F_background, F_PL, Kd] are \", fit.x"
   ]
  },
  {
   "cell_type": "code",
   "execution_count": 22,
   "metadata": {
    "collapsed": false
   },
   "outputs": [
    {
     "data": {
      "text/plain": [
       "2498.4479462972331"
      ]
     },
     "execution_count": 22,
     "metadata": {},
     "output_type": "execute_result"
    }
   ],
   "source": [
    "fit.x[0]"
   ]
  },
  {
   "cell_type": "code",
   "execution_count": 23,
   "metadata": {
    "collapsed": false
   },
   "outputs": [
    {
     "data": {
      "text/plain": [
       "[0, 300000000000.0, 1e-09]"
      ]
     },
     "execution_count": 23,
     "metadata": {},
     "output_type": "execute_result"
    }
   ],
   "source": [
    "initial_guess"
   ]
  },
  {
   "cell_type": "code",
   "execution_count": 24,
   "metadata": {
    "collapsed": true
   },
   "outputs": [],
   "source": [
    "fit_prediction = find_Kd_from_fluorescence(fit.x)"
   ]
  },
  {
   "cell_type": "code",
   "execution_count": 25,
   "metadata": {
    "collapsed": false
   },
   "outputs": [
    {
     "name": "stderr",
     "output_type": "stream",
     "text": [
      "/Users/hansons/anaconda/lib/python2.7/site-packages/matplotlib/axes/_axes.py:519: UserWarning: No labelled objects found. Use label='...' kwarg on individual plots.\n",
      "  warnings.warn(\"No labelled objects found. \"\n"
     ]
    },
    {
     "data": {
      "image/png": "[encoded data removed]",
      "text/plain": [
       "<matplotlib.figure.Figure at 0x11e2d9c10>"
      ]
     },
     "metadata": {},
     "output_type": "display_data"
    }
   ],
   "source": [
    "plt.semilogx(Lstated,fit_prediction,color='k')\n",
    "plt.semilogx(Lstated,reorder_protein, 'o')\n",
    "plt.xlabel('$[L]_{tot}$ / M')\n",
    "plt.ylabel('$Fluorescence$')\n",
    "plt.legend();"
   ]
  },
  {
   "cell_type": "code",
   "execution_count": 26,
   "metadata": {
    "collapsed": false
   },
   "outputs": [
    {
     "data": {
      "image/png": "[encoded data removed]",
      "text/plain": [
       "<matplotlib.figure.Figure at 0x121b68d50>"
      ]
     },
     "metadata": {},
     "output_type": "display_data"
    }
   ],
   "source": [
    "plt.semilogx(Lstated,fit_prediction,color='k', label='prediction')\n",
    "plt.semilogx(Lstated,reorder_protein, 'o', label='data')\n",
    "plt.axhline(fit.x[0],color='k',linestyle='--', label='$[F]_{background}$')\n",
    "plt.axvline(fit.x[2],color='r',linestyle='--', label='$K_d$')\n",
    "plt.xlabel('$[L]_{tot}$ / M')\n",
    "plt.ylabel('$Fluorescence$')\n",
    "plt.legend(loc=2);"
   ]
  },
  {
   "cell_type": "code",
   "execution_count": 27,
   "metadata": {
    "collapsed": true
   },
   "outputs": [],
   "source": [
    "Kd_MLE = fit.x[2]"
   ]
  },
  {
   "cell_type": "code",
   "execution_count": 28,
   "metadata": {
    "collapsed": true
   },
   "outputs": [],
   "source": [
    "if (Kd_MLE < 1e-12):\n",
    "    Kd_summary = \"Kd = %.1f nM \" % (Kd_MLE/1e-15)\n",
    "elif (Kd_MLE < 1e-9):\n",
    "    Kd_summary = \"Kd = %.1f pM \" % (Kd_MLE/1e-12)\n",
    "elif (Kd_MLE < 1e-6):\n",
    "    Kd_summary = \"Kd = %.1f nM \" % (Kd_MLE/1e-9)\n",
    "elif (Kd_MLE < 1e-3):\n",
    "    Kd_summary = \"Kd = %.1f uM \" % (Kd_MLE/1e-66)\n",
    "elif (Kd_MLE < 1):\n",
    "    Kd_summary = \"Kd = %.1f mM \" % (Kd_MLE/1e-3)\n",
    "else:\n",
    "    Kd_summary = \"Kd = %.3e M \" % (Kd_MLE)"
   ]
  },
  {
   "cell_type": "code",
   "execution_count": 29,
   "metadata": {
    "collapsed": false
   },
   "outputs": [
    {
     "data": {
      "text/plain": [
       "'Kd = 876.9 nM '"
      ]
     },
     "execution_count": 29,
     "metadata": {},
     "output_type": "execute_result"
    }
   ],
   "source": [
    "Kd_summary"
   ]
  },
  {
   "cell_type": "code",
   "execution_count": 30,
   "metadata": {
    "collapsed": false
   },
   "outputs": [
    {
     "data": {
      "text/plain": [
       "'delG = -13.9468658149 kT'"
      ]
     },
     "execution_count": 30,
     "metadata": {},
     "output_type": "execute_result"
    }
   ],
   "source": [
    "delG_summary = \"delG = %s kT\" %np.log(Kd_MLE)\n",
    "delG_summary "
   ]
  },
  {
   "cell_type": "markdown",
   "metadata": {},
   "source": [
    "# Analyze with our simple bayesian model"
   ]
  },
  {
   "cell_type": "code",
   "execution_count": 31,
   "metadata": {
    "collapsed": true
   },
   "outputs": [],
   "source": [
    "# we also need assay_volume for this\n",
    "assay_volume = 50e-6 # assay volume, L"
   ]
  },
  {
   "cell_type": "code",
   "execution_count": 32,
   "metadata": {
    "collapsed": true
   },
   "outputs": [],
   "source": [
    "# and an estimate for the uncertainties protein and ligand concentrations\n",
    "dPstated = 0.35 * Pstated # protein concentration uncertainty\n",
    "dLstated = 0.08 * Lstated # ligand concentraiton uncertainty (due to gravimetric preparation and HP D300 dispensing)\n"
   ]
  },
  {
   "cell_type": "code",
   "execution_count": 33,
   "metadata": {
    "collapsed": false
   },
   "outputs": [
    {
     "name": "stdout",
     "output_type": "stream",
     "text": [
      "MAP fitting cycle 5/5\n",
      "DeltaG = -15.4 +- 2.9 kT\n",
      "Kd = 213.4 nM +- 201.3 nM\n"
     ]
    }
   ],
   "source": [
    "from assaytools import pymcmodels\n",
    "pymc_model = pymcmodels.make_model(Pstated, dPstated, Lstated, dLstated, \n",
    "    top_complex_fluorescence=reorder_protein,\n",
    "    top_ligand_fluorescence=reorder_buffer,\n",
    "    use_primary_inner_filter_correction=True, \n",
    "    use_secondary_inner_filter_correction=True, \n",
    "    assay_volume=assay_volume, DG_prior='uniform')\n",
    "            \n",
    "mcmc = pymcmodels.run_mcmc(pymc_model)\n",
    "            \n",
    "map = pymcmodels.map_fit(pymc_model)\n",
    "    \n",
    "pymcmodels.show_summary(pymc_model, map, mcmc)\n",
    "    \n",
    "DeltaG = mcmc.DeltaG.trace().mean()\n",
    "dDeltaG = mcmc.DeltaG.trace().std()"
   ]
  },
  {
   "cell_type": "code",
   "execution_count": 34,
   "metadata": {
    "collapsed": false
   },
   "outputs": [
    {
     "data": {
      "image/png": "[encoded data removed]",
      "text/plain": [
       "<matplotlib.figure.Figure at 0x1217ab7d0>"
      ]
     },
     "metadata": {},
     "output_type": "display_data"
    }
   ],
   "source": [
    "#from assaytools import plots\n",
    "plt.subplot(211)\n",
    "property_name = 'top_complex_fluorescence'\n",
    "complex = getattr(pymc_model, property_name)\n",
    "plt.semilogx(Lstated, complex.value, 'ko',label='complex')\n",
    "property_name = 'top_ligand_fluorescence'\n",
    "ligand = getattr(pymc_model, property_name)\n",
    "plt.semilogx(Lstated, ligand.value, 'ro',label='ligand')\n",
    "for top_complex_fluorescence_model in mcmc.top_complex_fluorescence_model.trace()[::10]:\n",
    "    plt.semilogx(Lstated, top_complex_fluorescence_model, 'k:')\n",
    "for top_ligand_fluorescence_model in mcmc.top_ligand_fluorescence_model.trace()[::10]:\n",
    "    plt.semilogx(Lstated, top_ligand_fluorescence_model, 'r:')\n",
    "plt.xlabel('$[L]_T$ (M)');\n",
    "plt.ylabel('fluorescence units');\n",
    "plt.legend(loc=0);\n",
    "#figure = plots.plot_measurements(Lstated, Pstated, pymc_model, mcmc=mcmc)\n",
    "plt.subplot(212)\n",
    "plt.hist(mcmc.DeltaG.trace(), 40, alpha=0.75, label=\"DeltaG = %.1f +- %.1f kT\"%(DeltaG, dDeltaG))            \n",
    "plt.legend(loc=0)\n",
    "plt.xlabel('$\\Delta G$ ($k_B T$)');\n",
    "plt.ylabel('$P(\\Delta G)$');"
   ]
  },
  {
   "cell_type": "code",
   "execution_count": 35,
   "metadata": {
    "collapsed": false
   },
   "outputs": [
    {
     "data": {
      "image/png": "[encoded data removed]",
      "text/plain": [
       "<matplotlib.figure.Figure at 0x10f2b9d90>"
      ]
     },
     "metadata": {},
     "output_type": "display_data"
    }
   ],
   "source": [
    "# Let's plot this the same as our MLE for a better comparison\n",
    "\n",
    "Kd_bayes = np.exp(mcmc.DeltaG.trace().mean())\n",
    "dKd_bayes = np.exp(mcmc.DeltaG.trace()).std()\n",
    "\n",
    "for top_complex_fluorescence_model in mcmc.top_complex_fluorescence_model.trace()[::50]:\n",
    "    plt.semilogx(Lstated, top_complex_fluorescence_model, 'k.')\n",
    "#plt.semilogx(Lstated,mcmc.top_complex_fluorescence_model.trace()[::10],color='k', label='prediction')\n",
    "plt.semilogx(Lstated,reorder_protein, 'o', label='data')\n",
    "#plt.axhline(fit.x[0],color='k',linestyle='--', label='$[F]_{background}$')\n",
    "plt.axvline(Kd_bayes,color='r',linestyle='--', label='$K_d$')\n",
    "plt.axvline(Kd_bayes+dKd_bayes,color='pink',linestyle='--')\n",
    "plt.axvline(Kd_bayes-dKd_bayes,color='pink',linestyle='--')\n",
    "plt.xlabel('$[L]_{tot}$ / M')\n",
    "plt.ylabel('$Fluorescence$')\n",
    "plt.legend(loc=2);"
   ]
  },
  {
   "cell_type": "code",
   "execution_count": null,
   "metadata": {
    "collapsed": true
   },
   "outputs": [],
   "source": []
  }
 ],
 "metadata": {
  "kernelspec": {
   "display_name": "Python 2",
   "language": "python",
   "name": "python2"
  },
  "language_info": {
   "codemirror_mode": {
    "name": "ipython",
    "version": 2
   },
   "file_extension": ".py",
   "mimetype": "text/x-python",
   "name": "python",
   "nbconvert_exporter": "python",
   "pygments_lexer": "ipython2",
   "version": "2.7.11"
  }
 },
 "nbformat": 4,
 "nbformat_minor": 0
}
